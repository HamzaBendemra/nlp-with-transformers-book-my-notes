{
  "cells": [
    {
      "cell_type": "code",
      "execution_count": null,
      "metadata": {
        "id": "QMcOm_xGOMHl",
        "colab": {
          "base_uri": "https://localhost:8080/"
        },
        "outputId": "0be685fb-44bf-4c1c-8fe5-5be0577af386"
      },
      "outputs": [
        {
          "output_type": "stream",
          "name": "stdout",
          "text": [
            "Cloning into 'notebooks'...\n",
            "remote: Enumerating objects: 530, done.\u001b[K\n",
            "remote: Counting objects: 100% (209/209), done.\u001b[K\n",
            "remote: Compressing objects: 100% (47/47), done.\u001b[K\n",
            "remote: Total 530 (delta 184), reused 162 (delta 162), pack-reused 321 (from 2)\u001b[K\n",
            "Receiving objects: 100% (530/530), 28.52 MiB | 28.72 MiB/s, done.\n",
            "Resolving deltas: 100% (253/253), done.\n",
            "/content/notebooks/notebooks\n",
            "⏳ Installing base requirements ...\n",
            "✅ Base requirements installed!\n",
            "⏳ Installing Git LFS ...\n",
            "✅ Git LFS installed!\n"
          ]
        }
      ],
      "source": [
        "# Uncomment and run this cell if you're on Colab or Kaggle\n",
        "!git clone https://github.com/nlp-with-transformers/notebooks.git\n",
        "%cd notebooks\n",
        "from install import *\n",
        "install_requirements()"
      ]
    },
    {
      "cell_type": "code",
      "execution_count": null,
      "metadata": {
        "id": "KtEmCnqHOMHp",
        "colab": {
          "base_uri": "https://localhost:8080/"
        },
        "outputId": "a901abd6-97f9-4f9c-add6-750f1cafd120"
      },
      "outputs": [
        {
          "output_type": "stream",
          "name": "stdout",
          "text": [
            "Using transformers v4.16.2\n",
            "Using datasets v1.16.1\n"
          ]
        }
      ],
      "source": [
        "from utils import *\n",
        "setup_chapter()"
      ]
    },
    {
      "cell_type": "markdown",
      "metadata": {
        "id": "_ZHqlpYSOMHt"
      },
      "source": [
        "## Hugging Face Transformers: Bridging the Gap"
      ]
    },
    {
      "cell_type": "markdown",
      "metadata": {
        "id": "_4k-I5_1OMHu"
      },
      "source": [
        "## A Tour of Transformer Applications"
      ]
    },
    {
      "cell_type": "code",
      "execution_count": null,
      "metadata": {
        "id": "W9iWr3LSOMHu"
      },
      "outputs": [],
      "source": [
        "synthetic_review = \"\"\"Dear Amazon, I recently purchased a set of wireless earbuds \\\n",
        "from your online store in the United States. However, upon receiving the package, \\\n",
        "I was disappointed to find that the earbuds were defective and would not charge. \\\n",
        "As someone who relies on quality audio equipment for work and leisure, this has \\\n",
        "been quite inconvenient. I kindly request a replacement for the defective product \\\n",
        "or a full refund. Attached are the necessary documents and proof of purchase. \\\n",
        "Looking forward to your prompt response. Sincerely, Alex.\"\"\""
      ]
    },
    {
      "cell_type": "markdown",
      "metadata": {
        "id": "5fGKTrAWOMHu"
      },
      "source": [
        "### Text Classification"
      ]
    },
    {
      "cell_type": "code",
      "execution_count": null,
      "metadata": {
        "id": "G-BBR0_HOMHu",
        "colab": {
          "base_uri": "https://localhost:8080/",
          "height": 145,
          "referenced_widgets": [
            "4d5e5833a9f740108a99f9b900a68acf",
            "c4babf07a0c041d1a9743fef2c1a7ced",
            "716339cc6dc44db3bb715a6ed1ac9258",
            "b3aefdf1dfd34ec1abb065b32619eb04",
            "93cf2700e0e545eb9bb810d50e115a75",
            "020c58f1fbab481d991741e13b318be7",
            "d5550f32dc2a4197b6403999301377bc",
            "58d813c5a54349d99518c80ce9e2e35b",
            "98190acf1e9b4487922c36eb1e32e0f7",
            "1e1e74d6caa6409a971872da3cc51129",
            "147ba1397d4848ca8c3f5aaab4a81f8d",
            "d3d5957b7db74a069025120b2a0a5a9a",
            "3a6d19ff509b4be3a20cb506c5f8678e",
            "995eae563b9744d392b1c3385ad31220",
            "2957cef3c6b943ae913c9d1fe57eff9f",
            "832f3af88c8744aa9d056af60fcd14ca",
            "b6253dc93e094cfe94493984c8cabe63",
            "b1932f2aeed8495eaac74fed6802e132",
            "8e4a55eb80b2438cba0bc0276d5bca7a",
            "31e09b4946734e4aa5d7091b809a2339",
            "cae7968a87ed416d96f53a442f2a3d37",
            "496f46b9ac1746f8858b4e3ed95a9d69",
            "0bcc833391e74069a14a6c3150e3a0ca",
            "b8f20f8835de43d49ed4665039b62022",
            "14d9e320b98d46ca9dc8e87557ebee4d",
            "566223e1875b40b5a5072279904e99dd",
            "1b9be5efaa4e4461aa6bcab10b764cf6",
            "209e5c985e5f4c20846ccdf632dc0909",
            "feff14c50e3e4de8859dfe845785a144",
            "bd10eebc5233451f962349e0685f1db1",
            "04465cdeb50e4183be37fc1fc76f6e7d",
            "ccd1e72facc74a398352d191a0a4427e",
            "7fe3c89101124252b1c1425703b181f8",
            "471d2882390e41ff9b14b50308eb092f",
            "ffe2087e8cd2499e915ff7261027612f",
            "f7145b210f88471cbd872e022a6f53c5",
            "f32428d1b2cb49ba82bd244f5b2d6d42",
            "cdae216ae77b40a1b1fb7b2bacba17a8",
            "7b5dde4c13d848c893e12b1ca04db2a2",
            "cb87fecf60964450a359a027d577bc5e",
            "895eca5106d546ed8553911acbfa336c",
            "7863aa2409604df082a481eb0bd703c9",
            "9f2f197077614924aff3876da46403c0",
            "1a18d477bc9c4853abcc56013c1f04b2"
          ]
        },
        "outputId": "148d8ac0-0861-4669-df20-2474a9880557"
      },
      "outputs": [
        {
          "output_type": "display_data",
          "data": {
            "text/plain": [
              "Downloading:   0%|          | 0.00/629 [00:00<?, ?B/s]"
            ],
            "application/vnd.jupyter.widget-view+json": {
              "version_major": 2,
              "version_minor": 0,
              "model_id": "4d5e5833a9f740108a99f9b900a68acf"
            }
          },
          "metadata": {}
        },
        {
          "output_type": "display_data",
          "data": {
            "text/plain": [
              "Downloading:   0%|          | 0.00/255M [00:00<?, ?B/s]"
            ],
            "application/vnd.jupyter.widget-view+json": {
              "version_major": 2,
              "version_minor": 0,
              "model_id": "d3d5957b7db74a069025120b2a0a5a9a"
            }
          },
          "metadata": {}
        },
        {
          "output_type": "display_data",
          "data": {
            "text/plain": [
              "Downloading:   0%|          | 0.00/48.0 [00:00<?, ?B/s]"
            ],
            "application/vnd.jupyter.widget-view+json": {
              "version_major": 2,
              "version_minor": 0,
              "model_id": "0bcc833391e74069a14a6c3150e3a0ca"
            }
          },
          "metadata": {}
        },
        {
          "output_type": "display_data",
          "data": {
            "text/plain": [
              "Downloading:   0%|          | 0.00/226k [00:00<?, ?B/s]"
            ],
            "application/vnd.jupyter.widget-view+json": {
              "version_major": 2,
              "version_minor": 0,
              "model_id": "471d2882390e41ff9b14b50308eb092f"
            }
          },
          "metadata": {}
        }
      ],
      "source": [
        "from transformers import pipeline\n",
        "\n",
        "classifier = pipeline(\n",
        "    \"text-classification\",\n",
        ")"
      ]
    },
    {
      "cell_type": "code",
      "execution_count": null,
      "metadata": {
        "id": "3jo069-4OMHu",
        "outputId": "0d423542-d1e9-48ad-f15c-b313349ad0d3",
        "colab": {
          "base_uri": "https://localhost:8080/",
          "height": 81
        }
      },
      "outputs": [
        {
          "output_type": "execute_result",
          "data": {
            "text/plain": [
              "      label     score\n",
              "0  NEGATIVE  0.987568"
            ],
            "text/html": [
              "\n",
              "  <div id=\"df-21731588-2617-46f0-bb2e-acbc29955d98\" class=\"colab-df-container\">\n",
              "    <div>\n",
              "<style scoped>\n",
              "    .dataframe tbody tr th:only-of-type {\n",
              "        vertical-align: middle;\n",
              "    }\n",
              "\n",
              "    .dataframe tbody tr th {\n",
              "        vertical-align: top;\n",
              "    }\n",
              "\n",
              "    .dataframe thead th {\n",
              "        text-align: right;\n",
              "    }\n",
              "</style>\n",
              "<table border=\"1\" class=\"dataframe\">\n",
              "  <thead>\n",
              "    <tr style=\"text-align: right;\">\n",
              "      <th></th>\n",
              "      <th>label</th>\n",
              "      <th>score</th>\n",
              "    </tr>\n",
              "  </thead>\n",
              "  <tbody>\n",
              "    <tr>\n",
              "      <th>0</th>\n",
              "      <td>NEGATIVE</td>\n",
              "      <td>0.987568</td>\n",
              "    </tr>\n",
              "  </tbody>\n",
              "</table>\n",
              "</div>\n",
              "    <div class=\"colab-df-buttons\">\n",
              "\n",
              "  <div class=\"colab-df-container\">\n",
              "    <button class=\"colab-df-convert\" onclick=\"convertToInteractive('df-21731588-2617-46f0-bb2e-acbc29955d98')\"\n",
              "            title=\"Convert this dataframe to an interactive table.\"\n",
              "            style=\"display:none;\">\n",
              "\n",
              "  <svg xmlns=\"http://www.w3.org/2000/svg\" height=\"24px\" viewBox=\"0 -960 960 960\">\n",
              "    <path d=\"M120-120v-720h720v720H120Zm60-500h600v-160H180v160Zm220 220h160v-160H400v160Zm0 220h160v-160H400v160ZM180-400h160v-160H180v160Zm440 0h160v-160H620v160ZM180-180h160v-160H180v160Zm440 0h160v-160H620v160Z\"/>\n",
              "  </svg>\n",
              "    </button>\n",
              "\n",
              "  <style>\n",
              "    .colab-df-container {\n",
              "      display:flex;\n",
              "      gap: 12px;\n",
              "    }\n",
              "\n",
              "    .colab-df-convert {\n",
              "      background-color: #E8F0FE;\n",
              "      border: none;\n",
              "      border-radius: 50%;\n",
              "      cursor: pointer;\n",
              "      display: none;\n",
              "      fill: #1967D2;\n",
              "      height: 32px;\n",
              "      padding: 0 0 0 0;\n",
              "      width: 32px;\n",
              "    }\n",
              "\n",
              "    .colab-df-convert:hover {\n",
              "      background-color: #E2EBFA;\n",
              "      box-shadow: 0px 1px 2px rgba(60, 64, 67, 0.3), 0px 1px 3px 1px rgba(60, 64, 67, 0.15);\n",
              "      fill: #174EA6;\n",
              "    }\n",
              "\n",
              "    .colab-df-buttons div {\n",
              "      margin-bottom: 4px;\n",
              "    }\n",
              "\n",
              "    [theme=dark] .colab-df-convert {\n",
              "      background-color: #3B4455;\n",
              "      fill: #D2E3FC;\n",
              "    }\n",
              "\n",
              "    [theme=dark] .colab-df-convert:hover {\n",
              "      background-color: #434B5C;\n",
              "      box-shadow: 0px 1px 3px 1px rgba(0, 0, 0, 0.15);\n",
              "      filter: drop-shadow(0px 1px 2px rgba(0, 0, 0, 0.3));\n",
              "      fill: #FFFFFF;\n",
              "    }\n",
              "  </style>\n",
              "\n",
              "    <script>\n",
              "      const buttonEl =\n",
              "        document.querySelector('#df-21731588-2617-46f0-bb2e-acbc29955d98 button.colab-df-convert');\n",
              "      buttonEl.style.display =\n",
              "        google.colab.kernel.accessAllowed ? 'block' : 'none';\n",
              "\n",
              "      async function convertToInteractive(key) {\n",
              "        const element = document.querySelector('#df-21731588-2617-46f0-bb2e-acbc29955d98');\n",
              "        const dataTable =\n",
              "          await google.colab.kernel.invokeFunction('convertToInteractive',\n",
              "                                                    [key], {});\n",
              "        if (!dataTable) return;\n",
              "\n",
              "        const docLinkHtml = 'Like what you see? Visit the ' +\n",
              "          '<a target=\"_blank\" href=https://colab.research.google.com/notebooks/data_table.ipynb>data table notebook</a>'\n",
              "          + ' to learn more about interactive tables.';\n",
              "        element.innerHTML = '';\n",
              "        dataTable['output_type'] = 'display_data';\n",
              "        await google.colab.output.renderOutput(dataTable, element);\n",
              "        const docLink = document.createElement('div');\n",
              "        docLink.innerHTML = docLinkHtml;\n",
              "        element.appendChild(docLink);\n",
              "      }\n",
              "    </script>\n",
              "  </div>\n",
              "\n",
              "\n",
              "    </div>\n",
              "  </div>\n"
            ],
            "application/vnd.google.colaboratory.intrinsic+json": {
              "type": "dataframe",
              "summary": "{\n  \"name\": \"pd\",\n  \"rows\": 1,\n  \"fields\": [\n    {\n      \"column\": \"label\",\n      \"properties\": {\n        \"dtype\": \"string\",\n        \"num_unique_values\": 1,\n        \"samples\": [\n          \"NEGATIVE\"\n        ],\n        \"semantic_type\": \"\",\n        \"description\": \"\"\n      }\n    },\n    {\n      \"column\": \"score\",\n      \"properties\": {\n        \"dtype\": \"number\",\n        \"std\": null,\n        \"min\": 0.9875683188438416,\n        \"max\": 0.9875683188438416,\n        \"num_unique_values\": 1,\n        \"samples\": [\n          0.9875683188438416\n        ],\n        \"semantic_type\": \"\",\n        \"description\": \"\"\n      }\n    }\n  ]\n}"
            }
          },
          "metadata": {},
          "execution_count": 7
        }
      ],
      "source": [
        "import pandas as pd\n",
        "pd.set_option(\"display.max_colwidth\", None) # Display full text\n",
        "\n",
        "outputs = classifier(synthetic_review)\n",
        "pd.DataFrame(outputs)"
      ]
    },
    {
      "cell_type": "markdown",
      "metadata": {
        "id": "48PLcDQXOMHv"
      },
      "source": [
        "### Named Entity Recognition"
      ]
    },
    {
      "cell_type": "code",
      "execution_count": null,
      "metadata": {
        "id": "eu9Vz_BCOMHv",
        "outputId": "a0ff6a4f-b2f2-45ac-96ec-6704e16bba2d",
        "colab": {
          "base_uri": "https://localhost:8080/",
          "height": 271,
          "referenced_widgets": [
            "99ee44a884e849f480a5838e51e40f32",
            "7d20a14f484e4d16bbece3de9c545a42",
            "155d09fef1914c08b8988730f2003199",
            "688414ddd32c45bca9348d6d783bab89",
            "4685092ebeeb4f4aa70714764ce41305",
            "bf5d2bede6c940d29d406d35e72268be",
            "7f4c7591c8bf413d93a81f3ad3711d9f",
            "7088e03908f349e0b7506bee6223fd12",
            "246a9111f36c4bf49a6c6dd4270f48bb",
            "34caf11283e44eca9576dc9f98d4fa0f",
            "0b392ffa53a24b05a384baffd310294c",
            "c1645d502f15440988f644d92e3be948",
            "255568bc18bf47d497dd4a381b17e40b",
            "e31f383e33ab4354943d69d8bb5840f8",
            "f5dfd584140a4a14b620325928e34d63",
            "397a91e49f904f61bc49774ee27264bf",
            "316749d182b24c20af863d596456ec70",
            "796d4a7695e244e5ad8219b0373330c4",
            "edd629e67fbf4a22a42c2f5453664cda",
            "4d9598b0adab4f02abdb1b2f2d2a6e83",
            "660718a8807a4438a7d5a4f37fad8adc",
            "42c9e56b575f406099193bccd530f95d",
            "f521430a632d42a18cf07652c33d4615",
            "0c749cf0ca8d49e9b4ab3a5e8e42842a",
            "c0072b583e9a427a9cdf7fd16206f075",
            "d6580e3774c041cda7e6a7fbbbf7c43c",
            "d77aba07cb77419fa2bb899e4e2d184e",
            "1bd5ef30c798496da7c35b870226db16",
            "66f99c4b59684de0a4479b566d13f31c",
            "4ed0d2991d1d41b0bbee45ecd8434c72",
            "05ca560df336465d860b2792bc53b5eb",
            "02741e1cad2a4d56bd74ccb2d41c7361",
            "4c688873d8f14c71bcd134bf8b3227b0",
            "e0caf4c044be4e58b0bd16132a3443ea",
            "b0b9b0c30b7d4742b05a69bdeaaa6da1",
            "626993b87c404144b5bac29727900fba",
            "41f2f2e84bda4713bb653805eb8d6886",
            "a203502c37bf46fbaddad0d17b03ce07",
            "3b979641551f4534876a1f5a79c9275d",
            "239da3a92bca47dd8bd3bd71911c5c71",
            "3e68b87f54a147fd8555735cb478ddae",
            "9bf2274ec44148bbab603b33a785d077",
            "5e41c0c8e51d42df999404dcd8b7807c",
            "a1d2ba65cae24382af7e18233008ad5d"
          ]
        }
      },
      "outputs": [
        {
          "output_type": "display_data",
          "data": {
            "text/plain": [
              "Downloading:   0%|          | 0.00/998 [00:00<?, ?B/s]"
            ],
            "application/vnd.jupyter.widget-view+json": {
              "version_major": 2,
              "version_minor": 0,
              "model_id": "99ee44a884e849f480a5838e51e40f32"
            }
          },
          "metadata": {}
        },
        {
          "output_type": "display_data",
          "data": {
            "text/plain": [
              "Downloading:   0%|          | 0.00/1.24G [00:00<?, ?B/s]"
            ],
            "application/vnd.jupyter.widget-view+json": {
              "version_major": 2,
              "version_minor": 0,
              "model_id": "c1645d502f15440988f644d92e3be948"
            }
          },
          "metadata": {}
        },
        {
          "output_type": "display_data",
          "data": {
            "text/plain": [
              "Downloading:   0%|          | 0.00/60.0 [00:00<?, ?B/s]"
            ],
            "application/vnd.jupyter.widget-view+json": {
              "version_major": 2,
              "version_minor": 0,
              "model_id": "f521430a632d42a18cf07652c33d4615"
            }
          },
          "metadata": {}
        },
        {
          "output_type": "display_data",
          "data": {
            "text/plain": [
              "Downloading:   0%|          | 0.00/208k [00:00<?, ?B/s]"
            ],
            "application/vnd.jupyter.widget-view+json": {
              "version_major": 2,
              "version_minor": 0,
              "model_id": "e0caf4c044be4e58b0bd16132a3443ea"
            }
          },
          "metadata": {}
        },
        {
          "output_type": "execute_result",
          "data": {
            "text/plain": [
              "  entity_group     score           word  start  end\n",
              "0          ORG  0.948043         Amazon      5   11\n",
              "1          LOC  0.999619  United States     90  103\n",
              "2          PER  0.935605           Alex    515  519"
            ],
            "text/html": [
              "\n",
              "  <div id=\"df-6e1cbd89-0a58-48ae-9132-d81739d65be0\" class=\"colab-df-container\">\n",
              "    <div>\n",
              "<style scoped>\n",
              "    .dataframe tbody tr th:only-of-type {\n",
              "        vertical-align: middle;\n",
              "    }\n",
              "\n",
              "    .dataframe tbody tr th {\n",
              "        vertical-align: top;\n",
              "    }\n",
              "\n",
              "    .dataframe thead th {\n",
              "        text-align: right;\n",
              "    }\n",
              "</style>\n",
              "<table border=\"1\" class=\"dataframe\">\n",
              "  <thead>\n",
              "    <tr style=\"text-align: right;\">\n",
              "      <th></th>\n",
              "      <th>entity_group</th>\n",
              "      <th>score</th>\n",
              "      <th>word</th>\n",
              "      <th>start</th>\n",
              "      <th>end</th>\n",
              "    </tr>\n",
              "  </thead>\n",
              "  <tbody>\n",
              "    <tr>\n",
              "      <th>0</th>\n",
              "      <td>ORG</td>\n",
              "      <td>0.948043</td>\n",
              "      <td>Amazon</td>\n",
              "      <td>5</td>\n",
              "      <td>11</td>\n",
              "    </tr>\n",
              "    <tr>\n",
              "      <th>1</th>\n",
              "      <td>LOC</td>\n",
              "      <td>0.999619</td>\n",
              "      <td>United States</td>\n",
              "      <td>90</td>\n",
              "      <td>103</td>\n",
              "    </tr>\n",
              "    <tr>\n",
              "      <th>2</th>\n",
              "      <td>PER</td>\n",
              "      <td>0.935605</td>\n",
              "      <td>Alex</td>\n",
              "      <td>515</td>\n",
              "      <td>519</td>\n",
              "    </tr>\n",
              "  </tbody>\n",
              "</table>\n",
              "</div>\n",
              "    <div class=\"colab-df-buttons\">\n",
              "\n",
              "  <div class=\"colab-df-container\">\n",
              "    <button class=\"colab-df-convert\" onclick=\"convertToInteractive('df-6e1cbd89-0a58-48ae-9132-d81739d65be0')\"\n",
              "            title=\"Convert this dataframe to an interactive table.\"\n",
              "            style=\"display:none;\">\n",
              "\n",
              "  <svg xmlns=\"http://www.w3.org/2000/svg\" height=\"24px\" viewBox=\"0 -960 960 960\">\n",
              "    <path d=\"M120-120v-720h720v720H120Zm60-500h600v-160H180v160Zm220 220h160v-160H400v160Zm0 220h160v-160H400v160ZM180-400h160v-160H180v160Zm440 0h160v-160H620v160ZM180-180h160v-160H180v160Zm440 0h160v-160H620v160Z\"/>\n",
              "  </svg>\n",
              "    </button>\n",
              "\n",
              "  <style>\n",
              "    .colab-df-container {\n",
              "      display:flex;\n",
              "      gap: 12px;\n",
              "    }\n",
              "\n",
              "    .colab-df-convert {\n",
              "      background-color: #E8F0FE;\n",
              "      border: none;\n",
              "      border-radius: 50%;\n",
              "      cursor: pointer;\n",
              "      display: none;\n",
              "      fill: #1967D2;\n",
              "      height: 32px;\n",
              "      padding: 0 0 0 0;\n",
              "      width: 32px;\n",
              "    }\n",
              "\n",
              "    .colab-df-convert:hover {\n",
              "      background-color: #E2EBFA;\n",
              "      box-shadow: 0px 1px 2px rgba(60, 64, 67, 0.3), 0px 1px 3px 1px rgba(60, 64, 67, 0.15);\n",
              "      fill: #174EA6;\n",
              "    }\n",
              "\n",
              "    .colab-df-buttons div {\n",
              "      margin-bottom: 4px;\n",
              "    }\n",
              "\n",
              "    [theme=dark] .colab-df-convert {\n",
              "      background-color: #3B4455;\n",
              "      fill: #D2E3FC;\n",
              "    }\n",
              "\n",
              "    [theme=dark] .colab-df-convert:hover {\n",
              "      background-color: #434B5C;\n",
              "      box-shadow: 0px 1px 3px 1px rgba(0, 0, 0, 0.15);\n",
              "      filter: drop-shadow(0px 1px 2px rgba(0, 0, 0, 0.3));\n",
              "      fill: #FFFFFF;\n",
              "    }\n",
              "  </style>\n",
              "\n",
              "    <script>\n",
              "      const buttonEl =\n",
              "        document.querySelector('#df-6e1cbd89-0a58-48ae-9132-d81739d65be0 button.colab-df-convert');\n",
              "      buttonEl.style.display =\n",
              "        google.colab.kernel.accessAllowed ? 'block' : 'none';\n",
              "\n",
              "      async function convertToInteractive(key) {\n",
              "        const element = document.querySelector('#df-6e1cbd89-0a58-48ae-9132-d81739d65be0');\n",
              "        const dataTable =\n",
              "          await google.colab.kernel.invokeFunction('convertToInteractive',\n",
              "                                                    [key], {});\n",
              "        if (!dataTable) return;\n",
              "\n",
              "        const docLinkHtml = 'Like what you see? Visit the ' +\n",
              "          '<a target=\"_blank\" href=https://colab.research.google.com/notebooks/data_table.ipynb>data table notebook</a>'\n",
              "          + ' to learn more about interactive tables.';\n",
              "        element.innerHTML = '';\n",
              "        dataTable['output_type'] = 'display_data';\n",
              "        await google.colab.output.renderOutput(dataTable, element);\n",
              "        const docLink = document.createElement('div');\n",
              "        docLink.innerHTML = docLinkHtml;\n",
              "        element.appendChild(docLink);\n",
              "      }\n",
              "    </script>\n",
              "  </div>\n",
              "\n",
              "\n",
              "    <div id=\"df-c08c8c6c-7fca-4ded-9b2c-68c06dc091af\">\n",
              "      <button class=\"colab-df-quickchart\" onclick=\"quickchart('df-c08c8c6c-7fca-4ded-9b2c-68c06dc091af')\"\n",
              "                title=\"Suggest charts\"\n",
              "                style=\"display:none;\">\n",
              "\n",
              "<svg xmlns=\"http://www.w3.org/2000/svg\" height=\"24px\"viewBox=\"0 0 24 24\"\n",
              "     width=\"24px\">\n",
              "    <g>\n",
              "        <path d=\"M19 3H5c-1.1 0-2 .9-2 2v14c0 1.1.9 2 2 2h14c1.1 0 2-.9 2-2V5c0-1.1-.9-2-2-2zM9 17H7v-7h2v7zm4 0h-2V7h2v10zm4 0h-2v-4h2v4z\"/>\n",
              "    </g>\n",
              "</svg>\n",
              "      </button>\n",
              "\n",
              "<style>\n",
              "  .colab-df-quickchart {\n",
              "      --bg-color: #E8F0FE;\n",
              "      --fill-color: #1967D2;\n",
              "      --hover-bg-color: #E2EBFA;\n",
              "      --hover-fill-color: #174EA6;\n",
              "      --disabled-fill-color: #AAA;\n",
              "      --disabled-bg-color: #DDD;\n",
              "  }\n",
              "\n",
              "  [theme=dark] .colab-df-quickchart {\n",
              "      --bg-color: #3B4455;\n",
              "      --fill-color: #D2E3FC;\n",
              "      --hover-bg-color: #434B5C;\n",
              "      --hover-fill-color: #FFFFFF;\n",
              "      --disabled-bg-color: #3B4455;\n",
              "      --disabled-fill-color: #666;\n",
              "  }\n",
              "\n",
              "  .colab-df-quickchart {\n",
              "    background-color: var(--bg-color);\n",
              "    border: none;\n",
              "    border-radius: 50%;\n",
              "    cursor: pointer;\n",
              "    display: none;\n",
              "    fill: var(--fill-color);\n",
              "    height: 32px;\n",
              "    padding: 0;\n",
              "    width: 32px;\n",
              "  }\n",
              "\n",
              "  .colab-df-quickchart:hover {\n",
              "    background-color: var(--hover-bg-color);\n",
              "    box-shadow: 0 1px 2px rgba(60, 64, 67, 0.3), 0 1px 3px 1px rgba(60, 64, 67, 0.15);\n",
              "    fill: var(--button-hover-fill-color);\n",
              "  }\n",
              "\n",
              "  .colab-df-quickchart-complete:disabled,\n",
              "  .colab-df-quickchart-complete:disabled:hover {\n",
              "    background-color: var(--disabled-bg-color);\n",
              "    fill: var(--disabled-fill-color);\n",
              "    box-shadow: none;\n",
              "  }\n",
              "\n",
              "  .colab-df-spinner {\n",
              "    border: 2px solid var(--fill-color);\n",
              "    border-color: transparent;\n",
              "    border-bottom-color: var(--fill-color);\n",
              "    animation:\n",
              "      spin 1s steps(1) infinite;\n",
              "  }\n",
              "\n",
              "  @keyframes spin {\n",
              "    0% {\n",
              "      border-color: transparent;\n",
              "      border-bottom-color: var(--fill-color);\n",
              "      border-left-color: var(--fill-color);\n",
              "    }\n",
              "    20% {\n",
              "      border-color: transparent;\n",
              "      border-left-color: var(--fill-color);\n",
              "      border-top-color: var(--fill-color);\n",
              "    }\n",
              "    30% {\n",
              "      border-color: transparent;\n",
              "      border-left-color: var(--fill-color);\n",
              "      border-top-color: var(--fill-color);\n",
              "      border-right-color: var(--fill-color);\n",
              "    }\n",
              "    40% {\n",
              "      border-color: transparent;\n",
              "      border-right-color: var(--fill-color);\n",
              "      border-top-color: var(--fill-color);\n",
              "    }\n",
              "    60% {\n",
              "      border-color: transparent;\n",
              "      border-right-color: var(--fill-color);\n",
              "    }\n",
              "    80% {\n",
              "      border-color: transparent;\n",
              "      border-right-color: var(--fill-color);\n",
              "      border-bottom-color: var(--fill-color);\n",
              "    }\n",
              "    90% {\n",
              "      border-color: transparent;\n",
              "      border-bottom-color: var(--fill-color);\n",
              "    }\n",
              "  }\n",
              "</style>\n",
              "\n",
              "      <script>\n",
              "        async function quickchart(key) {\n",
              "          const quickchartButtonEl =\n",
              "            document.querySelector('#' + key + ' button');\n",
              "          quickchartButtonEl.disabled = true;  // To prevent multiple clicks.\n",
              "          quickchartButtonEl.classList.add('colab-df-spinner');\n",
              "          try {\n",
              "            const charts = await google.colab.kernel.invokeFunction(\n",
              "                'suggestCharts', [key], {});\n",
              "          } catch (error) {\n",
              "            console.error('Error during call to suggestCharts:', error);\n",
              "          }\n",
              "          quickchartButtonEl.classList.remove('colab-df-spinner');\n",
              "          quickchartButtonEl.classList.add('colab-df-quickchart-complete');\n",
              "        }\n",
              "        (() => {\n",
              "          let quickchartButtonEl =\n",
              "            document.querySelector('#df-c08c8c6c-7fca-4ded-9b2c-68c06dc091af button');\n",
              "          quickchartButtonEl.style.display =\n",
              "            google.colab.kernel.accessAllowed ? 'block' : 'none';\n",
              "        })();\n",
              "      </script>\n",
              "    </div>\n",
              "\n",
              "    </div>\n",
              "  </div>\n"
            ],
            "application/vnd.google.colaboratory.intrinsic+json": {
              "type": "dataframe",
              "summary": "{\n  \"name\": \"pd\",\n  \"rows\": 3,\n  \"fields\": [\n    {\n      \"column\": \"entity_group\",\n      \"properties\": {\n        \"dtype\": \"string\",\n        \"num_unique_values\": 3,\n        \"samples\": [\n          \"ORG\",\n          \"LOC\",\n          \"PER\"\n        ],\n        \"semantic_type\": \"\",\n        \"description\": \"\"\n      }\n    },\n    {\n      \"column\": \"score\",\n      \"properties\": {\n        \"dtype\": \"float32\",\n        \"num_unique_values\": 3,\n        \"samples\": [\n          0.9480432271957397,\n          0.9996191263198853,\n          0.9356046319007874\n        ],\n        \"semantic_type\": \"\",\n        \"description\": \"\"\n      }\n    },\n    {\n      \"column\": \"word\",\n      \"properties\": {\n        \"dtype\": \"string\",\n        \"num_unique_values\": 3,\n        \"samples\": [\n          \"Amazon\",\n          \"United States\",\n          \"Alex\"\n        ],\n        \"semantic_type\": \"\",\n        \"description\": \"\"\n      }\n    },\n    {\n      \"column\": \"start\",\n      \"properties\": {\n        \"dtype\": \"number\",\n        \"std\": 273,\n        \"min\": 5,\n        \"max\": 515,\n        \"num_unique_values\": 3,\n        \"samples\": [\n          5,\n          90,\n          515\n        ],\n        \"semantic_type\": \"\",\n        \"description\": \"\"\n      }\n    },\n    {\n      \"column\": \"end\",\n      \"properties\": {\n        \"dtype\": \"number\",\n        \"std\": 270,\n        \"min\": 11,\n        \"max\": 519,\n        \"num_unique_values\": 3,\n        \"samples\": [\n          11,\n          103,\n          519\n        ],\n        \"semantic_type\": \"\",\n        \"description\": \"\"\n      }\n    }\n  ]\n}"
            }
          },
          "metadata": {},
          "execution_count": 8
        }
      ],
      "source": [
        "ner_tagger = pipeline(\"ner\", aggregation_strategy=\"simple\")\n",
        "ner_outputs = ner_tagger(synthetic_review)\n",
        "pd.DataFrame(ner_outputs)"
      ]
    },
    {
      "cell_type": "markdown",
      "metadata": {
        "id": "Dp0ywjTMOMHv"
      },
      "source": [
        "### Question Answering"
      ]
    },
    {
      "cell_type": "code",
      "execution_count": null,
      "metadata": {
        "id": "YQb64r35OMHv",
        "outputId": "53653075-f3b1-42bb-d456-8a7e66ae322d",
        "colab": {
          "base_uri": "https://localhost:8080/",
          "height": 241,
          "referenced_widgets": [
            "33f1bcf133c94fd5be1451fef7065afa",
            "f8541f9c62a8453cadf6d4c6b860d130",
            "436eb1495a96427284a82b166fc50e70",
            "d7667f48cda14f689577da11881323fd",
            "2db516a001424a9eac53f3b8e132dc14",
            "d724e7e1fe1e4c71997121c13482ff04",
            "a21a7e7ba1554a1fb8b78bae376d085b",
            "436023487b8042dfa2d83ca82d5c2045",
            "c2f7161ef3514e22baa6e7f375befe14",
            "e82d95d005c843339beb617b8d184e8e",
            "dbf223fb3c1843c0bf6c6087c1f2686e",
            "74bd3e8715904fe693cac08032c50666",
            "6705235eb54b411b86114521330a649c",
            "2ddca6342a7e442ea9d550cf8e1eeecc",
            "57f44bbb39a14ebc8bb12ff74152d626",
            "41885b7397f9489a97900d5621cf3fd0",
            "51a0320db7b1463d94ecdb26c76e3133",
            "7a9c6065dcf042f7b631316f4d484179",
            "146fdef9ab83420cac1a462eda3dff4c",
            "58b0b1b713bd46d7862936a1ed070235",
            "927936af8a5f47a3a6ea8ddbdf7231df",
            "dff35762c54e4cf69c41a0ceebef2e19",
            "561e33df524940a8abcb51886175dd44",
            "aef36f45316b4504873c14b6b6af71c2",
            "d161057eb975492f895c20c903e898f3",
            "9c922b1b53554c7f9eec24c0f2013397",
            "eefa3c4ebe414478b8ba6367df4e429c",
            "dedd687bc5d94ec5b8f167dfed94f051",
            "5ee0377cb07944e9a6517570625b663c",
            "5300f3b7ecd24703b52f5d6105b53600",
            "4b4a50c3fcac4f2c8f11def64335e740",
            "72b3044d114e4f81bcacaa881f962289",
            "cdbb7cef86ad409ea89df6db8f81cb06",
            "f2bbcaa7d6194141919c0015f338c090",
            "67e60cb6a4b840768a9ab013b14cf237",
            "0baf45c6103d49ef8efd0c881979b7ca",
            "78484bdaa7054481a60e454698d46958",
            "dd49b166631d4c4a8c26f71a600ed2ab",
            "0272d6c4b9d74e1db5813c1bd5649419",
            "8749f0f950424b69b3307391c5ef54ae",
            "b1899828f31844cb9517c0d914fe3299",
            "0885eee66c3a48c2acd3f62db6328eb6",
            "fea82ff8363a4deea7da699b5afda577",
            "0c79e8d97d714869a40f09652165c221",
            "0dbd24987cd64d7c81c49bf3b491ef64",
            "23b8c709697f4b46af56549cb06c19f1",
            "29bbdaf769704923ba487eab20d5e27e",
            "c3551268afa443a0a5babb665913d29f",
            "0e8e4edd8d49424cb5f10db7698d013c",
            "7597a2c101794fa29650e12c0993b368",
            "6e53c8df4f1b4899bde9b7c86fbcd6d3",
            "7f72fe9da7df4ff2bc684d771e01be25",
            "c9dca00a5b4f448287cbf9d796ce69cb",
            "a714e393ad8b410ba2ecd249bce3b6fa",
            "c508c9a945984cfdb0eca10337f0aab4"
          ]
        }
      },
      "outputs": [
        {
          "output_type": "display_data",
          "data": {
            "text/plain": [
              "Downloading:   0%|          | 0.00/473 [00:00<?, ?B/s]"
            ],
            "application/vnd.jupyter.widget-view+json": {
              "version_major": 2,
              "version_minor": 0,
              "model_id": "33f1bcf133c94fd5be1451fef7065afa"
            }
          },
          "metadata": {}
        },
        {
          "output_type": "display_data",
          "data": {
            "text/plain": [
              "Downloading:   0%|          | 0.00/249M [00:00<?, ?B/s]"
            ],
            "application/vnd.jupyter.widget-view+json": {
              "version_major": 2,
              "version_minor": 0,
              "model_id": "74bd3e8715904fe693cac08032c50666"
            }
          },
          "metadata": {}
        },
        {
          "output_type": "display_data",
          "data": {
            "text/plain": [
              "Downloading:   0%|          | 0.00/49.0 [00:00<?, ?B/s]"
            ],
            "application/vnd.jupyter.widget-view+json": {
              "version_major": 2,
              "version_minor": 0,
              "model_id": "561e33df524940a8abcb51886175dd44"
            }
          },
          "metadata": {}
        },
        {
          "output_type": "display_data",
          "data": {
            "text/plain": [
              "Downloading:   0%|          | 0.00/208k [00:00<?, ?B/s]"
            ],
            "application/vnd.jupyter.widget-view+json": {
              "version_major": 2,
              "version_minor": 0,
              "model_id": "f2bbcaa7d6194141919c0015f338c090"
            }
          },
          "metadata": {}
        },
        {
          "output_type": "display_data",
          "data": {
            "text/plain": [
              "Downloading:   0%|          | 0.00/426k [00:00<?, ?B/s]"
            ],
            "application/vnd.jupyter.widget-view+json": {
              "version_major": 2,
              "version_minor": 0,
              "model_id": "0dbd24987cd64d7c81c49bf3b491ef64"
            }
          },
          "metadata": {}
        },
        {
          "output_type": "execute_result",
          "data": {
            "text/plain": [
              "     score  start  end            answer\n",
              "0  0.53788     43   59  wireless earbuds"
            ],
            "text/html": [
              "\n",
              "  <div id=\"df-b506c6d5-9660-468b-a16f-995006167a6c\" class=\"colab-df-container\">\n",
              "    <div>\n",
              "<style scoped>\n",
              "    .dataframe tbody tr th:only-of-type {\n",
              "        vertical-align: middle;\n",
              "    }\n",
              "\n",
              "    .dataframe tbody tr th {\n",
              "        vertical-align: top;\n",
              "    }\n",
              "\n",
              "    .dataframe thead th {\n",
              "        text-align: right;\n",
              "    }\n",
              "</style>\n",
              "<table border=\"1\" class=\"dataframe\">\n",
              "  <thead>\n",
              "    <tr style=\"text-align: right;\">\n",
              "      <th></th>\n",
              "      <th>score</th>\n",
              "      <th>start</th>\n",
              "      <th>end</th>\n",
              "      <th>answer</th>\n",
              "    </tr>\n",
              "  </thead>\n",
              "  <tbody>\n",
              "    <tr>\n",
              "      <th>0</th>\n",
              "      <td>0.53788</td>\n",
              "      <td>43</td>\n",
              "      <td>59</td>\n",
              "      <td>wireless earbuds</td>\n",
              "    </tr>\n",
              "  </tbody>\n",
              "</table>\n",
              "</div>\n",
              "    <div class=\"colab-df-buttons\">\n",
              "\n",
              "  <div class=\"colab-df-container\">\n",
              "    <button class=\"colab-df-convert\" onclick=\"convertToInteractive('df-b506c6d5-9660-468b-a16f-995006167a6c')\"\n",
              "            title=\"Convert this dataframe to an interactive table.\"\n",
              "            style=\"display:none;\">\n",
              "\n",
              "  <svg xmlns=\"http://www.w3.org/2000/svg\" height=\"24px\" viewBox=\"0 -960 960 960\">\n",
              "    <path d=\"M120-120v-720h720v720H120Zm60-500h600v-160H180v160Zm220 220h160v-160H400v160Zm0 220h160v-160H400v160ZM180-400h160v-160H180v160Zm440 0h160v-160H620v160ZM180-180h160v-160H180v160Zm440 0h160v-160H620v160Z\"/>\n",
              "  </svg>\n",
              "    </button>\n",
              "\n",
              "  <style>\n",
              "    .colab-df-container {\n",
              "      display:flex;\n",
              "      gap: 12px;\n",
              "    }\n",
              "\n",
              "    .colab-df-convert {\n",
              "      background-color: #E8F0FE;\n",
              "      border: none;\n",
              "      border-radius: 50%;\n",
              "      cursor: pointer;\n",
              "      display: none;\n",
              "      fill: #1967D2;\n",
              "      height: 32px;\n",
              "      padding: 0 0 0 0;\n",
              "      width: 32px;\n",
              "    }\n",
              "\n",
              "    .colab-df-convert:hover {\n",
              "      background-color: #E2EBFA;\n",
              "      box-shadow: 0px 1px 2px rgba(60, 64, 67, 0.3), 0px 1px 3px 1px rgba(60, 64, 67, 0.15);\n",
              "      fill: #174EA6;\n",
              "    }\n",
              "\n",
              "    .colab-df-buttons div {\n",
              "      margin-bottom: 4px;\n",
              "    }\n",
              "\n",
              "    [theme=dark] .colab-df-convert {\n",
              "      background-color: #3B4455;\n",
              "      fill: #D2E3FC;\n",
              "    }\n",
              "\n",
              "    [theme=dark] .colab-df-convert:hover {\n",
              "      background-color: #434B5C;\n",
              "      box-shadow: 0px 1px 3px 1px rgba(0, 0, 0, 0.15);\n",
              "      filter: drop-shadow(0px 1px 2px rgba(0, 0, 0, 0.3));\n",
              "      fill: #FFFFFF;\n",
              "    }\n",
              "  </style>\n",
              "\n",
              "    <script>\n",
              "      const buttonEl =\n",
              "        document.querySelector('#df-b506c6d5-9660-468b-a16f-995006167a6c button.colab-df-convert');\n",
              "      buttonEl.style.display =\n",
              "        google.colab.kernel.accessAllowed ? 'block' : 'none';\n",
              "\n",
              "      async function convertToInteractive(key) {\n",
              "        const element = document.querySelector('#df-b506c6d5-9660-468b-a16f-995006167a6c');\n",
              "        const dataTable =\n",
              "          await google.colab.kernel.invokeFunction('convertToInteractive',\n",
              "                                                    [key], {});\n",
              "        if (!dataTable) return;\n",
              "\n",
              "        const docLinkHtml = 'Like what you see? Visit the ' +\n",
              "          '<a target=\"_blank\" href=https://colab.research.google.com/notebooks/data_table.ipynb>data table notebook</a>'\n",
              "          + ' to learn more about interactive tables.';\n",
              "        element.innerHTML = '';\n",
              "        dataTable['output_type'] = 'display_data';\n",
              "        await google.colab.output.renderOutput(dataTable, element);\n",
              "        const docLink = document.createElement('div');\n",
              "        docLink.innerHTML = docLinkHtml;\n",
              "        element.appendChild(docLink);\n",
              "      }\n",
              "    </script>\n",
              "  </div>\n",
              "\n",
              "\n",
              "    </div>\n",
              "  </div>\n"
            ],
            "application/vnd.google.colaboratory.intrinsic+json": {
              "type": "dataframe",
              "summary": "{\n  \"name\": \"pd\",\n  \"rows\": 1,\n  \"fields\": [\n    {\n      \"column\": \"score\",\n      \"properties\": {\n        \"dtype\": \"number\",\n        \"std\": null,\n        \"min\": 0.5378798246383667,\n        \"max\": 0.5378798246383667,\n        \"num_unique_values\": 1,\n        \"samples\": [\n          0.5378798246383667\n        ],\n        \"semantic_type\": \"\",\n        \"description\": \"\"\n      }\n    },\n    {\n      \"column\": \"start\",\n      \"properties\": {\n        \"dtype\": \"number\",\n        \"std\": null,\n        \"min\": 43,\n        \"max\": 43,\n        \"num_unique_values\": 1,\n        \"samples\": [\n          43\n        ],\n        \"semantic_type\": \"\",\n        \"description\": \"\"\n      }\n    },\n    {\n      \"column\": \"end\",\n      \"properties\": {\n        \"dtype\": \"number\",\n        \"std\": null,\n        \"min\": 59,\n        \"max\": 59,\n        \"num_unique_values\": 1,\n        \"samples\": [\n          59\n        ],\n        \"semantic_type\": \"\",\n        \"description\": \"\"\n      }\n    },\n    {\n      \"column\": \"answer\",\n      \"properties\": {\n        \"dtype\": \"string\",\n        \"num_unique_values\": 1,\n        \"samples\": [\n          \"wireless earbuds\"\n        ],\n        \"semantic_type\": \"\",\n        \"description\": \"\"\n      }\n    }\n  ]\n}"
            }
          },
          "metadata": {},
          "execution_count": 9
        }
      ],
      "source": [
        "reader = pipeline(\"question-answering\")\n",
        "question = \"What product was purchased?\"\n",
        "answer = reader(\n",
        "    question=question,\n",
        "    context=synthetic_review,\n",
        ")\n",
        "pd.DataFrame([answer])"
      ]
    },
    {
      "cell_type": "code",
      "source": [
        "question = \"Who wrote the review?\"\n",
        "answer = reader(\n",
        "    question=question,\n",
        "    context=synthetic_review,\n",
        ")\n",
        "pd.DataFrame([answer])"
      ],
      "metadata": {
        "colab": {
          "base_uri": "https://localhost:8080/",
          "height": 81
        },
        "id": "sBFjR4bT2WAq",
        "outputId": "fc5dda61-0512-41b9-fbb7-9b600658d8dd"
      },
      "execution_count": null,
      "outputs": [
        {
          "output_type": "execute_result",
          "data": {
            "text/plain": [
              "      score  start  end answer\n",
              "0  0.217927    515  519   Alex"
            ],
            "text/html": [
              "\n",
              "  <div id=\"df-425a56d1-24e1-4f57-bb5e-9677f6b1c4ff\" class=\"colab-df-container\">\n",
              "    <div>\n",
              "<style scoped>\n",
              "    .dataframe tbody tr th:only-of-type {\n",
              "        vertical-align: middle;\n",
              "    }\n",
              "\n",
              "    .dataframe tbody tr th {\n",
              "        vertical-align: top;\n",
              "    }\n",
              "\n",
              "    .dataframe thead th {\n",
              "        text-align: right;\n",
              "    }\n",
              "</style>\n",
              "<table border=\"1\" class=\"dataframe\">\n",
              "  <thead>\n",
              "    <tr style=\"text-align: right;\">\n",
              "      <th></th>\n",
              "      <th>score</th>\n",
              "      <th>start</th>\n",
              "      <th>end</th>\n",
              "      <th>answer</th>\n",
              "    </tr>\n",
              "  </thead>\n",
              "  <tbody>\n",
              "    <tr>\n",
              "      <th>0</th>\n",
              "      <td>0.217927</td>\n",
              "      <td>515</td>\n",
              "      <td>519</td>\n",
              "      <td>Alex</td>\n",
              "    </tr>\n",
              "  </tbody>\n",
              "</table>\n",
              "</div>\n",
              "    <div class=\"colab-df-buttons\">\n",
              "\n",
              "  <div class=\"colab-df-container\">\n",
              "    <button class=\"colab-df-convert\" onclick=\"convertToInteractive('df-425a56d1-24e1-4f57-bb5e-9677f6b1c4ff')\"\n",
              "            title=\"Convert this dataframe to an interactive table.\"\n",
              "            style=\"display:none;\">\n",
              "\n",
              "  <svg xmlns=\"http://www.w3.org/2000/svg\" height=\"24px\" viewBox=\"0 -960 960 960\">\n",
              "    <path d=\"M120-120v-720h720v720H120Zm60-500h600v-160H180v160Zm220 220h160v-160H400v160Zm0 220h160v-160H400v160ZM180-400h160v-160H180v160Zm440 0h160v-160H620v160ZM180-180h160v-160H180v160Zm440 0h160v-160H620v160Z\"/>\n",
              "  </svg>\n",
              "    </button>\n",
              "\n",
              "  <style>\n",
              "    .colab-df-container {\n",
              "      display:flex;\n",
              "      gap: 12px;\n",
              "    }\n",
              "\n",
              "    .colab-df-convert {\n",
              "      background-color: #E8F0FE;\n",
              "      border: none;\n",
              "      border-radius: 50%;\n",
              "      cursor: pointer;\n",
              "      display: none;\n",
              "      fill: #1967D2;\n",
              "      height: 32px;\n",
              "      padding: 0 0 0 0;\n",
              "      width: 32px;\n",
              "    }\n",
              "\n",
              "    .colab-df-convert:hover {\n",
              "      background-color: #E2EBFA;\n",
              "      box-shadow: 0px 1px 2px rgba(60, 64, 67, 0.3), 0px 1px 3px 1px rgba(60, 64, 67, 0.15);\n",
              "      fill: #174EA6;\n",
              "    }\n",
              "\n",
              "    .colab-df-buttons div {\n",
              "      margin-bottom: 4px;\n",
              "    }\n",
              "\n",
              "    [theme=dark] .colab-df-convert {\n",
              "      background-color: #3B4455;\n",
              "      fill: #D2E3FC;\n",
              "    }\n",
              "\n",
              "    [theme=dark] .colab-df-convert:hover {\n",
              "      background-color: #434B5C;\n",
              "      box-shadow: 0px 1px 3px 1px rgba(0, 0, 0, 0.15);\n",
              "      filter: drop-shadow(0px 1px 2px rgba(0, 0, 0, 0.3));\n",
              "      fill: #FFFFFF;\n",
              "    }\n",
              "  </style>\n",
              "\n",
              "    <script>\n",
              "      const buttonEl =\n",
              "        document.querySelector('#df-425a56d1-24e1-4f57-bb5e-9677f6b1c4ff button.colab-df-convert');\n",
              "      buttonEl.style.display =\n",
              "        google.colab.kernel.accessAllowed ? 'block' : 'none';\n",
              "\n",
              "      async function convertToInteractive(key) {\n",
              "        const element = document.querySelector('#df-425a56d1-24e1-4f57-bb5e-9677f6b1c4ff');\n",
              "        const dataTable =\n",
              "          await google.colab.kernel.invokeFunction('convertToInteractive',\n",
              "                                                    [key], {});\n",
              "        if (!dataTable) return;\n",
              "\n",
              "        const docLinkHtml = 'Like what you see? Visit the ' +\n",
              "          '<a target=\"_blank\" href=https://colab.research.google.com/notebooks/data_table.ipynb>data table notebook</a>'\n",
              "          + ' to learn more about interactive tables.';\n",
              "        element.innerHTML = '';\n",
              "        dataTable['output_type'] = 'display_data';\n",
              "        await google.colab.output.renderOutput(dataTable, element);\n",
              "        const docLink = document.createElement('div');\n",
              "        docLink.innerHTML = docLinkHtml;\n",
              "        element.appendChild(docLink);\n",
              "      }\n",
              "    </script>\n",
              "  </div>\n",
              "\n",
              "\n",
              "    </div>\n",
              "  </div>\n"
            ],
            "application/vnd.google.colaboratory.intrinsic+json": {
              "type": "dataframe",
              "summary": "{\n  \"name\": \"pd\",\n  \"rows\": 1,\n  \"fields\": [\n    {\n      \"column\": \"score\",\n      \"properties\": {\n        \"dtype\": \"number\",\n        \"std\": null,\n        \"min\": 0.21792736649513245,\n        \"max\": 0.21792736649513245,\n        \"num_unique_values\": 1,\n        \"samples\": [\n          0.21792736649513245\n        ],\n        \"semantic_type\": \"\",\n        \"description\": \"\"\n      }\n    },\n    {\n      \"column\": \"start\",\n      \"properties\": {\n        \"dtype\": \"number\",\n        \"std\": null,\n        \"min\": 515,\n        \"max\": 515,\n        \"num_unique_values\": 1,\n        \"samples\": [\n          515\n        ],\n        \"semantic_type\": \"\",\n        \"description\": \"\"\n      }\n    },\n    {\n      \"column\": \"end\",\n      \"properties\": {\n        \"dtype\": \"number\",\n        \"std\": null,\n        \"min\": 519,\n        \"max\": 519,\n        \"num_unique_values\": 1,\n        \"samples\": [\n          519\n        ],\n        \"semantic_type\": \"\",\n        \"description\": \"\"\n      }\n    },\n    {\n      \"column\": \"answer\",\n      \"properties\": {\n        \"dtype\": \"string\",\n        \"num_unique_values\": 1,\n        \"samples\": [\n          \"Alex\"\n        ],\n        \"semantic_type\": \"\",\n        \"description\": \"\"\n      }\n    }\n  ]\n}"
            }
          },
          "metadata": {},
          "execution_count": 10
        }
      ]
    },
    {
      "cell_type": "code",
      "source": [
        "question = \"What does the customer want?\"\n",
        "answer = reader(\n",
        "    question=question,\n",
        "    context=synthetic_review,\n",
        ")\n",
        "pd.DataFrame([answer])"
      ],
      "metadata": {
        "colab": {
          "base_uri": "https://localhost:8080/",
          "height": 81
        },
        "id": "2m4lSV3r2XvH",
        "outputId": "f474127c-8202-440e-e248-72ae7082dfec"
      },
      "execution_count": null,
      "outputs": [
        {
          "output_type": "execute_result",
          "data": {
            "text/plain": [
              "      score  start  end  \\\n",
              "0  0.229822    345  401   \n",
              "\n",
              "                                                     answer  \n",
              "0  a replacement for the defective product or a full refund  "
            ],
            "text/html": [
              "\n",
              "  <div id=\"df-24f41fd7-1f8a-4379-b5b5-1d36bf375a75\" class=\"colab-df-container\">\n",
              "    <div>\n",
              "<style scoped>\n",
              "    .dataframe tbody tr th:only-of-type {\n",
              "        vertical-align: middle;\n",
              "    }\n",
              "\n",
              "    .dataframe tbody tr th {\n",
              "        vertical-align: top;\n",
              "    }\n",
              "\n",
              "    .dataframe thead th {\n",
              "        text-align: right;\n",
              "    }\n",
              "</style>\n",
              "<table border=\"1\" class=\"dataframe\">\n",
              "  <thead>\n",
              "    <tr style=\"text-align: right;\">\n",
              "      <th></th>\n",
              "      <th>score</th>\n",
              "      <th>start</th>\n",
              "      <th>end</th>\n",
              "      <th>answer</th>\n",
              "    </tr>\n",
              "  </thead>\n",
              "  <tbody>\n",
              "    <tr>\n",
              "      <th>0</th>\n",
              "      <td>0.229822</td>\n",
              "      <td>345</td>\n",
              "      <td>401</td>\n",
              "      <td>a replacement for the defective product or a full refund</td>\n",
              "    </tr>\n",
              "  </tbody>\n",
              "</table>\n",
              "</div>\n",
              "    <div class=\"colab-df-buttons\">\n",
              "\n",
              "  <div class=\"colab-df-container\">\n",
              "    <button class=\"colab-df-convert\" onclick=\"convertToInteractive('df-24f41fd7-1f8a-4379-b5b5-1d36bf375a75')\"\n",
              "            title=\"Convert this dataframe to an interactive table.\"\n",
              "            style=\"display:none;\">\n",
              "\n",
              "  <svg xmlns=\"http://www.w3.org/2000/svg\" height=\"24px\" viewBox=\"0 -960 960 960\">\n",
              "    <path d=\"M120-120v-720h720v720H120Zm60-500h600v-160H180v160Zm220 220h160v-160H400v160Zm0 220h160v-160H400v160ZM180-400h160v-160H180v160Zm440 0h160v-160H620v160ZM180-180h160v-160H180v160Zm440 0h160v-160H620v160Z\"/>\n",
              "  </svg>\n",
              "    </button>\n",
              "\n",
              "  <style>\n",
              "    .colab-df-container {\n",
              "      display:flex;\n",
              "      gap: 12px;\n",
              "    }\n",
              "\n",
              "    .colab-df-convert {\n",
              "      background-color: #E8F0FE;\n",
              "      border: none;\n",
              "      border-radius: 50%;\n",
              "      cursor: pointer;\n",
              "      display: none;\n",
              "      fill: #1967D2;\n",
              "      height: 32px;\n",
              "      padding: 0 0 0 0;\n",
              "      width: 32px;\n",
              "    }\n",
              "\n",
              "    .colab-df-convert:hover {\n",
              "      background-color: #E2EBFA;\n",
              "      box-shadow: 0px 1px 2px rgba(60, 64, 67, 0.3), 0px 1px 3px 1px rgba(60, 64, 67, 0.15);\n",
              "      fill: #174EA6;\n",
              "    }\n",
              "\n",
              "    .colab-df-buttons div {\n",
              "      margin-bottom: 4px;\n",
              "    }\n",
              "\n",
              "    [theme=dark] .colab-df-convert {\n",
              "      background-color: #3B4455;\n",
              "      fill: #D2E3FC;\n",
              "    }\n",
              "\n",
              "    [theme=dark] .colab-df-convert:hover {\n",
              "      background-color: #434B5C;\n",
              "      box-shadow: 0px 1px 3px 1px rgba(0, 0, 0, 0.15);\n",
              "      filter: drop-shadow(0px 1px 2px rgba(0, 0, 0, 0.3));\n",
              "      fill: #FFFFFF;\n",
              "    }\n",
              "  </style>\n",
              "\n",
              "    <script>\n",
              "      const buttonEl =\n",
              "        document.querySelector('#df-24f41fd7-1f8a-4379-b5b5-1d36bf375a75 button.colab-df-convert');\n",
              "      buttonEl.style.display =\n",
              "        google.colab.kernel.accessAllowed ? 'block' : 'none';\n",
              "\n",
              "      async function convertToInteractive(key) {\n",
              "        const element = document.querySelector('#df-24f41fd7-1f8a-4379-b5b5-1d36bf375a75');\n",
              "        const dataTable =\n",
              "          await google.colab.kernel.invokeFunction('convertToInteractive',\n",
              "                                                    [key], {});\n",
              "        if (!dataTable) return;\n",
              "\n",
              "        const docLinkHtml = 'Like what you see? Visit the ' +\n",
              "          '<a target=\"_blank\" href=https://colab.research.google.com/notebooks/data_table.ipynb>data table notebook</a>'\n",
              "          + ' to learn more about interactive tables.';\n",
              "        element.innerHTML = '';\n",
              "        dataTable['output_type'] = 'display_data';\n",
              "        await google.colab.output.renderOutput(dataTable, element);\n",
              "        const docLink = document.createElement('div');\n",
              "        docLink.innerHTML = docLinkHtml;\n",
              "        element.appendChild(docLink);\n",
              "      }\n",
              "    </script>\n",
              "  </div>\n",
              "\n",
              "\n",
              "    </div>\n",
              "  </div>\n"
            ],
            "application/vnd.google.colaboratory.intrinsic+json": {
              "type": "dataframe",
              "summary": "{\n  \"name\": \"pd\",\n  \"rows\": 1,\n  \"fields\": [\n    {\n      \"column\": \"score\",\n      \"properties\": {\n        \"dtype\": \"number\",\n        \"std\": null,\n        \"min\": 0.22982218861579895,\n        \"max\": 0.22982218861579895,\n        \"num_unique_values\": 1,\n        \"samples\": [\n          0.22982218861579895\n        ],\n        \"semantic_type\": \"\",\n        \"description\": \"\"\n      }\n    },\n    {\n      \"column\": \"start\",\n      \"properties\": {\n        \"dtype\": \"number\",\n        \"std\": null,\n        \"min\": 345,\n        \"max\": 345,\n        \"num_unique_values\": 1,\n        \"samples\": [\n          345\n        ],\n        \"semantic_type\": \"\",\n        \"description\": \"\"\n      }\n    },\n    {\n      \"column\": \"end\",\n      \"properties\": {\n        \"dtype\": \"number\",\n        \"std\": null,\n        \"min\": 401,\n        \"max\": 401,\n        \"num_unique_values\": 1,\n        \"samples\": [\n          401\n        ],\n        \"semantic_type\": \"\",\n        \"description\": \"\"\n      }\n    },\n    {\n      \"column\": \"answer\",\n      \"properties\": {\n        \"dtype\": \"string\",\n        \"num_unique_values\": 1,\n        \"samples\": [\n          \"a replacement for the defective product or a full refund\"\n        ],\n        \"semantic_type\": \"\",\n        \"description\": \"\"\n      }\n    }\n  ]\n}"
            }
          },
          "metadata": {},
          "execution_count": 11
        }
      ]
    },
    {
      "cell_type": "markdown",
      "metadata": {
        "id": "jmTfZnsOOMHv"
      },
      "source": [
        "### Summarization"
      ]
    },
    {
      "cell_type": "code",
      "execution_count": null,
      "metadata": {
        "id": "W7GdnD8pOMHv",
        "outputId": "6f11b6f5-7aa3-4f3a-9027-029bf485a4bd",
        "colab": {
          "base_uri": "https://localhost:8080/",
          "height": 241,
          "referenced_widgets": [
            "fec1186cb8644697aa7b290e7e5bacb2",
            "d178d849692b47d8a35d18713668ac62",
            "c9c4fe1e879a42e59eb2d86c32093c6e",
            "8d9f8c52ed204f92bf0946c9e155f238",
            "c44128a587744bf7bad54612b9f1e232",
            "9fdd9f6f45be4c4d8867b3edb8b97890",
            "0ee6d31742f04332bea2667a77a506ba",
            "d9072613440f47f8855fad94158509ee",
            "c1790cf306b84296a7a540305aee4ad0",
            "8bdb63e3683e4d5d879230e321692897",
            "12f371c9e3a04f45bfbcd42b2451f0c8",
            "c5ab848f530a413a97a388b6b8c12e30",
            "6209958e7e7e43438dd9967800ea5082",
            "9c66a431ba60459aafca2614000efd26",
            "ddd9321d59ee467d84c7ef043c8f636c",
            "06ec6d68528c49d9a5370b51bc4e2de1",
            "fab7d1dbc3b94947bf1271f84ba6e3aa",
            "a758da2ee8174e938eb014bfee71104a",
            "1147e426e8144e979bc072a2cc26285f",
            "964e20897fe342219ca00a5a13334204",
            "82286d1545f04ca59766366ec7fb975d",
            "3b1307923cce478487d23fa2bd6495c1",
            "2dedd08bb934488c981849a93f366868",
            "a649908ab31a4103910a93d5da51462c",
            "0d0e3021b2384d148eae743643058099",
            "1dd34f2049ff47858de75bb4831f8bb9",
            "8e2bbd704c2f4ad688efda8a84531249",
            "5e1530b980cc4cdf904105e6de1ec8f7",
            "3a9579cf58164c4888f3319bea6287a6",
            "b434fc0d6e6d496d9bee7058a7fb05a6",
            "c09f28d6db4c406d965ab8738f4d8746",
            "f9304e23a05a4efb845c2b924497363f",
            "518a092fedcc46159314e8a19664f9b9",
            "a027a6a66d494f5b86b4da8ee8de174c",
            "428f8cb2174d41ebb0ac4dda58fadd59",
            "f58bfa79b19d4c2fbced9c2b1d821b7c",
            "e4dc0018bef74f43877d862e0ab7490c",
            "2dea21962e424a79bf37f08257345c5e",
            "c9595168a6c5494a9c195cb0151b9f35",
            "ab1021eedec74824954d3ae7034f26b9",
            "f5f0ecfaa4e64432a4cf6534ccc090ae",
            "cb92eaf3e0b94f72905d6e0e5678db0f",
            "a8f0424963e546cebfe4b7d463baae81",
            "ea9c4018bb5c40a3a4cad882af61bb82",
            "995e13d5f089440fb1b748a70ec3dc60",
            "4248bdfd987a4d53b284a01dd29c22ca",
            "3755618580564e5199b696cfc2a6cd25",
            "997bac01bdf74fa2a7b43c9d767d140c",
            "936b4bde4f404e438e9c43193a117b67",
            "8edd112be0ef49e4a9c059c2ac8e46e8",
            "61a0358aa79c45ffb119b6ed0a73c636",
            "7428ef7751a24ae88b254b6ad20e3b23",
            "6683fd77dbe5400795bb1656727ca958",
            "d93567232d45443a91981861fb84cd05",
            "b7fb653a75fa4560b641e1b3cfd3a40a"
          ]
        }
      },
      "outputs": [
        {
          "output_type": "display_data",
          "data": {
            "text/plain": [
              "Downloading:   0%|          | 0.00/1.76k [00:00<?, ?B/s]"
            ],
            "application/vnd.jupyter.widget-view+json": {
              "version_major": 2,
              "version_minor": 0,
              "model_id": "fec1186cb8644697aa7b290e7e5bacb2"
            }
          },
          "metadata": {}
        },
        {
          "output_type": "display_data",
          "data": {
            "text/plain": [
              "Downloading:   0%|          | 0.00/1.14G [00:00<?, ?B/s]"
            ],
            "application/vnd.jupyter.widget-view+json": {
              "version_major": 2,
              "version_minor": 0,
              "model_id": "c5ab848f530a413a97a388b6b8c12e30"
            }
          },
          "metadata": {}
        },
        {
          "output_type": "display_data",
          "data": {
            "text/plain": [
              "Downloading:   0%|          | 0.00/26.0 [00:00<?, ?B/s]"
            ],
            "application/vnd.jupyter.widget-view+json": {
              "version_major": 2,
              "version_minor": 0,
              "model_id": "2dedd08bb934488c981849a93f366868"
            }
          },
          "metadata": {}
        },
        {
          "output_type": "display_data",
          "data": {
            "text/plain": [
              "Downloading:   0%|          | 0.00/878k [00:00<?, ?B/s]"
            ],
            "application/vnd.jupyter.widget-view+json": {
              "version_major": 2,
              "version_minor": 0,
              "model_id": "a027a6a66d494f5b86b4da8ee8de174c"
            }
          },
          "metadata": {}
        },
        {
          "output_type": "display_data",
          "data": {
            "text/plain": [
              "Downloading:   0%|          | 0.00/446k [00:00<?, ?B/s]"
            ],
            "application/vnd.jupyter.widget-view+json": {
              "version_major": 2,
              "version_minor": 0,
              "model_id": "995e13d5f089440fb1b748a70ec3dc60"
            }
          },
          "metadata": {}
        },
        {
          "output_type": "execute_result",
          "data": {
            "text/plain": [
              "                                                                                                                    summary_text\n",
              "0   Amazon's wireless earbuds were defective and would not charge. Alex asks for a replacement for the product or a full refund."
            ],
            "text/html": [
              "\n",
              "  <div id=\"df-3411520e-16de-4134-aa06-c03933182f05\" class=\"colab-df-container\">\n",
              "    <div>\n",
              "<style scoped>\n",
              "    .dataframe tbody tr th:only-of-type {\n",
              "        vertical-align: middle;\n",
              "    }\n",
              "\n",
              "    .dataframe tbody tr th {\n",
              "        vertical-align: top;\n",
              "    }\n",
              "\n",
              "    .dataframe thead th {\n",
              "        text-align: right;\n",
              "    }\n",
              "</style>\n",
              "<table border=\"1\" class=\"dataframe\">\n",
              "  <thead>\n",
              "    <tr style=\"text-align: right;\">\n",
              "      <th></th>\n",
              "      <th>summary_text</th>\n",
              "    </tr>\n",
              "  </thead>\n",
              "  <tbody>\n",
              "    <tr>\n",
              "      <th>0</th>\n",
              "      <td>Amazon's wireless earbuds were defective and would not charge. Alex asks for a replacement for the product or a full refund.</td>\n",
              "    </tr>\n",
              "  </tbody>\n",
              "</table>\n",
              "</div>\n",
              "    <div class=\"colab-df-buttons\">\n",
              "\n",
              "  <div class=\"colab-df-container\">\n",
              "    <button class=\"colab-df-convert\" onclick=\"convertToInteractive('df-3411520e-16de-4134-aa06-c03933182f05')\"\n",
              "            title=\"Convert this dataframe to an interactive table.\"\n",
              "            style=\"display:none;\">\n",
              "\n",
              "  <svg xmlns=\"http://www.w3.org/2000/svg\" height=\"24px\" viewBox=\"0 -960 960 960\">\n",
              "    <path d=\"M120-120v-720h720v720H120Zm60-500h600v-160H180v160Zm220 220h160v-160H400v160Zm0 220h160v-160H400v160ZM180-400h160v-160H180v160Zm440 0h160v-160H620v160ZM180-180h160v-160H180v160Zm440 0h160v-160H620v160Z\"/>\n",
              "  </svg>\n",
              "    </button>\n",
              "\n",
              "  <style>\n",
              "    .colab-df-container {\n",
              "      display:flex;\n",
              "      gap: 12px;\n",
              "    }\n",
              "\n",
              "    .colab-df-convert {\n",
              "      background-color: #E8F0FE;\n",
              "      border: none;\n",
              "      border-radius: 50%;\n",
              "      cursor: pointer;\n",
              "      display: none;\n",
              "      fill: #1967D2;\n",
              "      height: 32px;\n",
              "      padding: 0 0 0 0;\n",
              "      width: 32px;\n",
              "    }\n",
              "\n",
              "    .colab-df-convert:hover {\n",
              "      background-color: #E2EBFA;\n",
              "      box-shadow: 0px 1px 2px rgba(60, 64, 67, 0.3), 0px 1px 3px 1px rgba(60, 64, 67, 0.15);\n",
              "      fill: #174EA6;\n",
              "    }\n",
              "\n",
              "    .colab-df-buttons div {\n",
              "      margin-bottom: 4px;\n",
              "    }\n",
              "\n",
              "    [theme=dark] .colab-df-convert {\n",
              "      background-color: #3B4455;\n",
              "      fill: #D2E3FC;\n",
              "    }\n",
              "\n",
              "    [theme=dark] .colab-df-convert:hover {\n",
              "      background-color: #434B5C;\n",
              "      box-shadow: 0px 1px 3px 1px rgba(0, 0, 0, 0.15);\n",
              "      filter: drop-shadow(0px 1px 2px rgba(0, 0, 0, 0.3));\n",
              "      fill: #FFFFFF;\n",
              "    }\n",
              "  </style>\n",
              "\n",
              "    <script>\n",
              "      const buttonEl =\n",
              "        document.querySelector('#df-3411520e-16de-4134-aa06-c03933182f05 button.colab-df-convert');\n",
              "      buttonEl.style.display =\n",
              "        google.colab.kernel.accessAllowed ? 'block' : 'none';\n",
              "\n",
              "      async function convertToInteractive(key) {\n",
              "        const element = document.querySelector('#df-3411520e-16de-4134-aa06-c03933182f05');\n",
              "        const dataTable =\n",
              "          await google.colab.kernel.invokeFunction('convertToInteractive',\n",
              "                                                    [key], {});\n",
              "        if (!dataTable) return;\n",
              "\n",
              "        const docLinkHtml = 'Like what you see? Visit the ' +\n",
              "          '<a target=\"_blank\" href=https://colab.research.google.com/notebooks/data_table.ipynb>data table notebook</a>'\n",
              "          + ' to learn more about interactive tables.';\n",
              "        element.innerHTML = '';\n",
              "        dataTable['output_type'] = 'display_data';\n",
              "        await google.colab.output.renderOutput(dataTable, element);\n",
              "        const docLink = document.createElement('div');\n",
              "        docLink.innerHTML = docLinkHtml;\n",
              "        element.appendChild(docLink);\n",
              "      }\n",
              "    </script>\n",
              "  </div>\n",
              "\n",
              "\n",
              "    </div>\n",
              "  </div>\n"
            ],
            "application/vnd.google.colaboratory.intrinsic+json": {
              "type": "dataframe",
              "summary": "{\n  \"name\": \"pd\",\n  \"rows\": 1,\n  \"fields\": [\n    {\n      \"column\": \"summary_text\",\n      \"properties\": {\n        \"dtype\": \"string\",\n        \"num_unique_values\": 1,\n        \"samples\": [\n          \" Amazon's wireless earbuds were defective and would not charge. Alex asks for a replacement for the product or a full refund.\"\n        ],\n        \"semantic_type\": \"\",\n        \"description\": \"\"\n      }\n    }\n  ]\n}"
            }
          },
          "metadata": {},
          "execution_count": 12
        }
      ],
      "source": [
        "summarizer = pipeline(\"summarization\")\n",
        "summary = summarizer(\n",
        "    synthetic_review,\n",
        "    max_length=50,\n",
        "    min_length=25,\n",
        "    clean_up_tokenization_spaces=True,\n",
        ")\n",
        "pd.DataFrame(summary)"
      ]
    },
    {
      "cell_type": "markdown",
      "metadata": {
        "id": "0jXCxF9JOMHv"
      },
      "source": [
        "### Translation"
      ]
    },
    {
      "cell_type": "code",
      "execution_count": null,
      "metadata": {
        "id": "duD73-CROMHv",
        "outputId": "1e5c9116-28cc-42fe-830e-18366ebe3d21",
        "colab": {
          "base_uri": "https://localhost:8080/",
          "height": 325,
          "referenced_widgets": [
            "f3ea05e7795846ddb6fe90efcdd7cd22",
            "6660637cacd64778a6c2c4d1fdefb526",
            "6e32b290a0734c20b39299222661c96a",
            "e9f2197916644d95be47c2ab0d04dec2",
            "9543c884f0854d75a513903a903183c1",
            "8e13f723177141589fcf64126e1f4105",
            "2ec262b954de482f8932017e43abe060",
            "4643665a852147e69e94afa4fd27916b",
            "88c6740c58cc45e7a6d7a62779ba171f",
            "917ba04e5b4d4284b8f6bd86594723f9",
            "7286cc3f44db4e8f9c8b10604519bb36",
            "75592c6e625a43dea5720bbaa90a53df",
            "a21b57624a4647f9a6f267779f6537e4",
            "52a64f7fc8d746b89e10ad7e74ecebcc",
            "90fee111f3ee4f048b28c614c37a3f08",
            "e17dea59f6ca49b38a47768fb7dc6868",
            "677835111d014463b882fdd960f7306e",
            "583630318dc44b7c845311acb1a25d91",
            "18dd51ac1a39444da2d28acc1b5c740c",
            "8ab07f7dc044495dace829bd775225fd",
            "c0958d0f92a54f468fb42944eeb8922b",
            "313c3f5a8eb541668df1837c4b8eacfb",
            "22e99a86f7bb469b9637189e92d0c161",
            "e82485c1db46457aaedbbc996b02b1f6",
            "9e0775e747e64e3f83b14d4929398673",
            "6dd12a54141a47b4b8c4d0ed6d673aa5",
            "eb873732336e464aa81db72af58423ce",
            "ed208b15150e4c409184fd452f78e6f1",
            "4502a1bdb7c340df803468ed7d12eb2f",
            "6a02a81ce60a4b219f2a23ea26283486",
            "2f62c982a8fc490f8c5f850288ed92f4",
            "aceb5d36fad64e91ac603e3d6dfffa96",
            "0644ad3d822c4687801e3650518b611c",
            "f9e88c607cc6478abee36ba08864af58",
            "397f855b41ad47b7a4eebb7d3e48f20b",
            "40ae6e9d949643b2a15903b4e5984670",
            "4a080ee34ae44e62957cb48bbf4b655c",
            "650b508b7e9f47eea2039bc43118d175",
            "7ab9d6e3e9584b9b91194682140c0844",
            "19d705d011744231a5961e93ca82a8a5",
            "41c09c1cedb242a89a57eadc5f3698fe",
            "94bf9cb841164c5287ef0665f141407a",
            "9eadf449f84d46d49e5a12e6295efe45",
            "5de6ca767d4d48fbb504ff66dc39ec62",
            "2e588a1594154880bff290dc91f25261",
            "8e88f5f401324d1491d25edd6669f3bd",
            "d683bcaa7d214f0eb1664b016ac0b626",
            "223760c6c6e44c8fbe7b6ed27f88e9ea",
            "8eafc820ce3c4911883fa497fa50152d",
            "c7daf6c299304f728dc6c5255c877ee3",
            "f6a6a0a365ef4314b48bcb26dc5265fb",
            "a8c012bd99b441b1af6a41a4db148779",
            "4d7340fc85fb42849ebf374fe93ca4bf",
            "ece85dc6aae84feea9841ba1f3daf2b7",
            "848a588c733a4b3a832abaf74355e51c",
            "d7dedab19c1a4bf4b77ff783114eca65",
            "393827dc18bc468bb7d2d40e1a319bd7",
            "3b469125c001433daf6bbef952d4c195",
            "493c2176218c4cff9390b663b08757ee",
            "42c6b89d6b514c718011e33043870320",
            "41f4493f42074f7fb403b2f8097b1aae",
            "4628066da38f4b7c9d173cc055710070",
            "aed39eecbd7541d0867be22eb42951a6",
            "c1396d77106c4e33b61e5a829c29d69f",
            "4a94be2108db4428845f7a5a99c12e46",
            "56e48affa77a4c3c95db0f5ac95eb53f"
          ]
        }
      },
      "outputs": [
        {
          "output_type": "display_data",
          "data": {
            "text/plain": [
              "Downloading:   0%|          | 0.00/1.38k [00:00<?, ?B/s]"
            ],
            "application/vnd.jupyter.widget-view+json": {
              "version_major": 2,
              "version_minor": 0,
              "model_id": "f3ea05e7795846ddb6fe90efcdd7cd22"
            }
          },
          "metadata": {}
        },
        {
          "output_type": "display_data",
          "data": {
            "text/plain": [
              "Downloading:   0%|          | 0.00/287M [00:00<?, ?B/s]"
            ],
            "application/vnd.jupyter.widget-view+json": {
              "version_major": 2,
              "version_minor": 0,
              "model_id": "75592c6e625a43dea5720bbaa90a53df"
            }
          },
          "metadata": {}
        },
        {
          "output_type": "display_data",
          "data": {
            "text/plain": [
              "Downloading:   0%|          | 0.00/42.0 [00:00<?, ?B/s]"
            ],
            "application/vnd.jupyter.widget-view+json": {
              "version_major": 2,
              "version_minor": 0,
              "model_id": "22e99a86f7bb469b9637189e92d0c161"
            }
          },
          "metadata": {}
        },
        {
          "output_type": "display_data",
          "data": {
            "text/plain": [
              "Downloading:   0%|          | 0.00/760k [00:00<?, ?B/s]"
            ],
            "application/vnd.jupyter.widget-view+json": {
              "version_major": 2,
              "version_minor": 0,
              "model_id": "f9e88c607cc6478abee36ba08864af58"
            }
          },
          "metadata": {}
        },
        {
          "output_type": "display_data",
          "data": {
            "text/plain": [
              "Downloading:   0%|          | 0.00/784k [00:00<?, ?B/s]"
            ],
            "application/vnd.jupyter.widget-view+json": {
              "version_major": 2,
              "version_minor": 0,
              "model_id": "2e588a1594154880bff290dc91f25261"
            }
          },
          "metadata": {}
        },
        {
          "output_type": "display_data",
          "data": {
            "text/plain": [
              "Downloading:   0%|          | 0.00/1.28M [00:00<?, ?B/s]"
            ],
            "application/vnd.jupyter.widget-view+json": {
              "version_major": 2,
              "version_minor": 0,
              "model_id": "d7dedab19c1a4bf4b77ff783114eca65"
            }
          },
          "metadata": {}
        },
        {
          "output_type": "execute_result",
          "data": {
            "text/plain": [
              "                                                                                                                                                                                                                                                                                                                                                                                                                                                         translation_text\n",
              "0  Cher Amazon, j'ai récemment acheté un ensemble d'oreilles sans fil de votre boutique en ligne aux États-Unis. Cependant, après avoir reçu le paquet, j'ai été déçu de constater que les oreillettes étaient défectueuses et ne seraient pas facturées. Comme quelqu'un qui compte sur un équipement audio de qualité pour le travail et les loisirs, cela a été tout à fait gênant. Je demande un remplacement pour le produit défectueux ou un remboursement complet."
            ],
            "text/html": [
              "\n",
              "  <div id=\"df-60b42f4b-cf6f-4f7f-8c46-1913cb8e32be\" class=\"colab-df-container\">\n",
              "    <div>\n",
              "<style scoped>\n",
              "    .dataframe tbody tr th:only-of-type {\n",
              "        vertical-align: middle;\n",
              "    }\n",
              "\n",
              "    .dataframe tbody tr th {\n",
              "        vertical-align: top;\n",
              "    }\n",
              "\n",
              "    .dataframe thead th {\n",
              "        text-align: right;\n",
              "    }\n",
              "</style>\n",
              "<table border=\"1\" class=\"dataframe\">\n",
              "  <thead>\n",
              "    <tr style=\"text-align: right;\">\n",
              "      <th></th>\n",
              "      <th>translation_text</th>\n",
              "    </tr>\n",
              "  </thead>\n",
              "  <tbody>\n",
              "    <tr>\n",
              "      <th>0</th>\n",
              "      <td>Cher Amazon, j'ai récemment acheté un ensemble d'oreilles sans fil de votre boutique en ligne aux États-Unis. Cependant, après avoir reçu le paquet, j'ai été déçu de constater que les oreillettes étaient défectueuses et ne seraient pas facturées. Comme quelqu'un qui compte sur un équipement audio de qualité pour le travail et les loisirs, cela a été tout à fait gênant. Je demande un remplacement pour le produit défectueux ou un remboursement complet.</td>\n",
              "    </tr>\n",
              "  </tbody>\n",
              "</table>\n",
              "</div>\n",
              "    <div class=\"colab-df-buttons\">\n",
              "\n",
              "  <div class=\"colab-df-container\">\n",
              "    <button class=\"colab-df-convert\" onclick=\"convertToInteractive('df-60b42f4b-cf6f-4f7f-8c46-1913cb8e32be')\"\n",
              "            title=\"Convert this dataframe to an interactive table.\"\n",
              "            style=\"display:none;\">\n",
              "\n",
              "  <svg xmlns=\"http://www.w3.org/2000/svg\" height=\"24px\" viewBox=\"0 -960 960 960\">\n",
              "    <path d=\"M120-120v-720h720v720H120Zm60-500h600v-160H180v160Zm220 220h160v-160H400v160Zm0 220h160v-160H400v160ZM180-400h160v-160H180v160Zm440 0h160v-160H620v160ZM180-180h160v-160H180v160Zm440 0h160v-160H620v160Z\"/>\n",
              "  </svg>\n",
              "    </button>\n",
              "\n",
              "  <style>\n",
              "    .colab-df-container {\n",
              "      display:flex;\n",
              "      gap: 12px;\n",
              "    }\n",
              "\n",
              "    .colab-df-convert {\n",
              "      background-color: #E8F0FE;\n",
              "      border: none;\n",
              "      border-radius: 50%;\n",
              "      cursor: pointer;\n",
              "      display: none;\n",
              "      fill: #1967D2;\n",
              "      height: 32px;\n",
              "      padding: 0 0 0 0;\n",
              "      width: 32px;\n",
              "    }\n",
              "\n",
              "    .colab-df-convert:hover {\n",
              "      background-color: #E2EBFA;\n",
              "      box-shadow: 0px 1px 2px rgba(60, 64, 67, 0.3), 0px 1px 3px 1px rgba(60, 64, 67, 0.15);\n",
              "      fill: #174EA6;\n",
              "    }\n",
              "\n",
              "    .colab-df-buttons div {\n",
              "      margin-bottom: 4px;\n",
              "    }\n",
              "\n",
              "    [theme=dark] .colab-df-convert {\n",
              "      background-color: #3B4455;\n",
              "      fill: #D2E3FC;\n",
              "    }\n",
              "\n",
              "    [theme=dark] .colab-df-convert:hover {\n",
              "      background-color: #434B5C;\n",
              "      box-shadow: 0px 1px 3px 1px rgba(0, 0, 0, 0.15);\n",
              "      filter: drop-shadow(0px 1px 2px rgba(0, 0, 0, 0.3));\n",
              "      fill: #FFFFFF;\n",
              "    }\n",
              "  </style>\n",
              "\n",
              "    <script>\n",
              "      const buttonEl =\n",
              "        document.querySelector('#df-60b42f4b-cf6f-4f7f-8c46-1913cb8e32be button.colab-df-convert');\n",
              "      buttonEl.style.display =\n",
              "        google.colab.kernel.accessAllowed ? 'block' : 'none';\n",
              "\n",
              "      async function convertToInteractive(key) {\n",
              "        const element = document.querySelector('#df-60b42f4b-cf6f-4f7f-8c46-1913cb8e32be');\n",
              "        const dataTable =\n",
              "          await google.colab.kernel.invokeFunction('convertToInteractive',\n",
              "                                                    [key], {});\n",
              "        if (!dataTable) return;\n",
              "\n",
              "        const docLinkHtml = 'Like what you see? Visit the ' +\n",
              "          '<a target=\"_blank\" href=https://colab.research.google.com/notebooks/data_table.ipynb>data table notebook</a>'\n",
              "          + ' to learn more about interactive tables.';\n",
              "        element.innerHTML = '';\n",
              "        dataTable['output_type'] = 'display_data';\n",
              "        await google.colab.output.renderOutput(dataTable, element);\n",
              "        const docLink = document.createElement('div');\n",
              "        docLink.innerHTML = docLinkHtml;\n",
              "        element.appendChild(docLink);\n",
              "      }\n",
              "    </script>\n",
              "  </div>\n",
              "\n",
              "\n",
              "    </div>\n",
              "  </div>\n"
            ],
            "application/vnd.google.colaboratory.intrinsic+json": {
              "type": "dataframe",
              "summary": "{\n  \"name\": \"pd\",\n  \"rows\": 1,\n  \"fields\": [\n    {\n      \"column\": \"translation_text\",\n      \"properties\": {\n        \"dtype\": \"string\",\n        \"num_unique_values\": 1,\n        \"samples\": [\n          \"Cher Amazon, j'ai r\\u00e9cemment achet\\u00e9 un ensemble d'oreilles sans fil de votre boutique en ligne aux \\u00c9tats-Unis. Cependant, apr\\u00e8s avoir re\\u00e7u le paquet, j'ai \\u00e9t\\u00e9 d\\u00e9\\u00e7u de constater que les oreillettes \\u00e9taient d\\u00e9fectueuses et ne seraient pas factur\\u00e9es. Comme quelqu'un qui compte sur un \\u00e9quipement audio de qualit\\u00e9 pour le travail et les loisirs, cela a \\u00e9t\\u00e9 tout \\u00e0 fait g\\u00eanant. Je demande un remplacement pour le produit d\\u00e9fectueux ou un remboursement complet.\"\n        ],\n        \"semantic_type\": \"\",\n        \"description\": \"\"\n      }\n    }\n  ]\n}"
            }
          },
          "metadata": {},
          "execution_count": 13
        }
      ],
      "source": [
        "translator = pipeline(\n",
        "    \"translation_en_to_fr\",\n",
        "    model=\"Helsinki-NLP/opus-mt-en-fr\",\n",
        ")\n",
        "outputs = translator(\n",
        "    synthetic_review,\n",
        "    clean_up_tokenization_spaces=True,\n",
        "    min_length=50,\n",
        ")\n",
        "pd.DataFrame(outputs)"
      ]
    },
    {
      "cell_type": "markdown",
      "metadata": {
        "id": "HF9wapJFOMHw"
      },
      "source": [
        "### Text Generation"
      ]
    },
    {
      "cell_type": "code",
      "execution_count": null,
      "metadata": {
        "id": "gbBrfVveOMHw"
      },
      "outputs": [],
      "source": [
        "from transformers import set_seed\n",
        "set_seed(7)"
      ]
    },
    {
      "cell_type": "code",
      "execution_count": null,
      "metadata": {
        "id": "iV8K9uR0OMHw",
        "outputId": "7ef37952-3eb9-4f90-f8fd-e39465b16eb9",
        "colab": {
          "base_uri": "https://localhost:8080/",
          "height": 469,
          "referenced_widgets": [
            "a02e0ef391474cc2a8acbccbd359eeab",
            "9ab7b7e95c6f42e9a8db897ee52b8c8e",
            "ef943c70b9554f17b29201cec5ceef3c",
            "32abcddf7d8d4f20adef5a8453cefa26",
            "6eecaa0fd31d48d5b5d9cdebcdde873b",
            "820be97f88ab46f885694b6fdfaee50b",
            "b5466aeaaf48449ab469931955d42aa0",
            "8e17fe20eff24984a012f37ba70e9910",
            "f7618267675340068971eab195d4e640",
            "510d6259bc3f4400995c6905abe9762e",
            "963a04b9651f4bb1ab5829cec9715476",
            "9dad681a70b6421b859a57917fded87a",
            "ed340fa9410343ba9d06bec139061185",
            "3dee3dd119834149a2d37f964616e5ef",
            "737ac69e778d4c28b0fbe33f93910595",
            "1b46e5c3332240f28c6c431d7821348c",
            "d65dac0931fe489981e526b7cc17e2c6",
            "2ae399c2050945dc98c642978cb93568",
            "8638ef01eb864f4493e649d90f0f9dd2",
            "fddcf9ddc60b49d294c140644d123e5f",
            "af0d0e12447b4bdba7a2cf0558d8f5d4",
            "2edba06a8a6b46c088c71add95fe4429",
            "e9ae7b583fcb401d9d880038bd8b4abb",
            "a886c23224074c2f80b9cdedf1297f2c",
            "40f49021ba0c4e27bd7d8b3cd0e61d9c",
            "387dc74a7a364977a782eb60a674acfe",
            "190e05e5a716468cad63c2063b6b1c47",
            "d246e88be76244c09c8d440ef2bfcd43",
            "d51ba3bf4866455899ff6d0415c6e843",
            "4ace8e3e4c6b42bfbc9b504c4d0e3757",
            "de78ce3871e142218b5474910a107bc7",
            "582323cad1594950bec92ed5ca291eb4",
            "619a409695324987b508506b9bc264cd",
            "9106f29273f0430c915ded9967f3bb57",
            "ee95a9ece1314da5bb23a7978470904e",
            "398a72dd6913413ab23354d167608909",
            "39b6fad022414202b7a665c0610fa336",
            "e7fc6051866a4d3fb707f39270a3f3da",
            "cfd1aa9e96374129b2b2bbf2873a3337",
            "421e3a7500e4481d9e5983c0af906f3d",
            "48bc18a7e7e348c8bfb8f81f9ee3980c",
            "6ad68057a1974e828d593a862c46f048",
            "f638e9c0608645ce92a8003c03bce7db",
            "f9a7c40c7b414f2ea3160e0cef72727f",
            "34f76b327aec4536a75d4182178e5339",
            "d713b5409fd040b99d0945d9e2eab08d",
            "40d36fe0799c4c62b95f828925c648b7",
            "df1d6fd5aad4458580293ceb0f650cfb",
            "24c0fcf28c8f4ff5aa152f9203e6d2cc",
            "31c9fe61e6124738b645555d80e26b57",
            "091c414532b04d879b215a747a5b0d8f",
            "4248e172e07041b587d49c04ffdadce2",
            "f1ebc4ba08524ddaaf7fb7854ede50df",
            "a9663a1f1a694f3891181ba897bad260",
            "300b576d31e04b508a9c3e37e51b3a19",
            "e24633e69e9943feb27854da36442db9",
            "b8389d06a7184fc594e9ad00300b0e0a",
            "509de134229c40fdab7037c0e07d6856",
            "259ff7d33fda40f78847ca5decca053d",
            "abf79c8911814cfb95c8cb9e57756ed8",
            "ef91d6c02c264d609969da72d3ff0b63",
            "83e2e96b2cf34dc8b7201aadf6820a4f",
            "03e55464768a449989ba5cc1a6727863",
            "5f68672220a04effb463cdf7f884d76d",
            "09bc98f1001a418fbf63f752690b41cd",
            "0813ac0b34a743d499070816ce274c26"
          ]
        }
      },
      "outputs": [
        {
          "output_type": "display_data",
          "data": {
            "text/plain": [
              "Downloading:   0%|          | 0.00/665 [00:00<?, ?B/s]"
            ],
            "application/vnd.jupyter.widget-view+json": {
              "version_major": 2,
              "version_minor": 0,
              "model_id": "a02e0ef391474cc2a8acbccbd359eeab"
            }
          },
          "metadata": {}
        },
        {
          "output_type": "display_data",
          "data": {
            "text/plain": [
              "Downloading:   0%|          | 0.00/523M [00:00<?, ?B/s]"
            ],
            "application/vnd.jupyter.widget-view+json": {
              "version_major": 2,
              "version_minor": 0,
              "model_id": "9dad681a70b6421b859a57917fded87a"
            }
          },
          "metadata": {}
        },
        {
          "output_type": "display_data",
          "data": {
            "text/plain": [
              "Downloading:   0%|          | 0.00/26.0 [00:00<?, ?B/s]"
            ],
            "application/vnd.jupyter.widget-view+json": {
              "version_major": 2,
              "version_minor": 0,
              "model_id": "e9ae7b583fcb401d9d880038bd8b4abb"
            }
          },
          "metadata": {}
        },
        {
          "output_type": "display_data",
          "data": {
            "text/plain": [
              "Downloading:   0%|          | 0.00/0.99M [00:00<?, ?B/s]"
            ],
            "application/vnd.jupyter.widget-view+json": {
              "version_major": 2,
              "version_minor": 0,
              "model_id": "9106f29273f0430c915ded9967f3bb57"
            }
          },
          "metadata": {}
        },
        {
          "output_type": "display_data",
          "data": {
            "text/plain": [
              "Downloading:   0%|          | 0.00/446k [00:00<?, ?B/s]"
            ],
            "application/vnd.jupyter.widget-view+json": {
              "version_major": 2,
              "version_minor": 0,
              "model_id": "34f76b327aec4536a75d4182178e5339"
            }
          },
          "metadata": {}
        },
        {
          "output_type": "display_data",
          "data": {
            "text/plain": [
              "Downloading:   0%|          | 0.00/1.29M [00:00<?, ?B/s]"
            ],
            "application/vnd.jupyter.widget-view+json": {
              "version_major": 2,
              "version_minor": 0,
              "model_id": "e24633e69e9943feb27854da36442db9"
            }
          },
          "metadata": {}
        },
        {
          "output_type": "stream",
          "name": "stdout",
          "text": [
            "Dear Amazon, I recently purchased a set of wireless earbuds from your online\n",
            "store in the United States. However, upon receiving the package, I was\n",
            "disappointed to find that the earbuds were defective and would not charge. As\n",
            "someone who relies on quality audio equipment for work and leisure, this has\n",
            "been quite inconvenient. I kindly request a replacement for the defective\n",
            "product or a full refund. Attached are the necessary documents and proof of\n",
            "purchase. Looking forward to your prompt response. Sincerely, Alex.\n",
            "\n",
            " Customer service response:\n",
            " Dear Alex, I am sorry to hear about your ___________ problems. I have recently\n",
            "been contacted by your online store who have an order for the earbuds (as well\n",
            "as an Air Conditioner for the earbuds). This was extremely confusing and hard to\n",
            "explain to them. They contacted you through their email. I am not sure where you\n",
            "heard from them other than in your email messages and in the following text. I\n",
            "have ordered from you\n"
          ]
        }
      ],
      "source": [
        "generator = pipeline(\n",
        "    \"text-generation\",\n",
        "    model=\"gpt2\"\n",
        ")\n",
        "prompt = str(synthetic_review) + \"\\n\\n Customer service response: \\n Dear Alex, I am sorry to hear about your \"\n",
        "outputs = generator(\n",
        "    prompt,\n",
        "    max_length=200,\n",
        "    truncation=True,\n",
        "    num_return_sequences=1,\n",
        ")\n",
        "print(outputs[0]['generated_text'])"
      ]
    },
    {
      "cell_type": "markdown",
      "metadata": {
        "id": "TikdHbDuOMHw"
      },
      "source": [
        "### The Hugging Face Hub"
      ]
    },
    {
      "cell_type": "markdown",
      "metadata": {
        "id": "miguwGiKOMHw"
      },
      "source": [
        "<img alt=\"hub-overview\" width=\"1000\" caption=\"The models page of the Hugging Face Hub, showing filters on the left and a list of models on the right.\" src=\"https://github.com/nlp-with-transformers/notebooks/blob/main/images/chapter01_hub-overview.png?raw=1\" id=\"hub-overview\"/>"
      ]
    },
    {
      "cell_type": "markdown",
      "metadata": {
        "id": "YjuVeDiXOMHw"
      },
      "source": [
        "<img alt=\"hub-model-card\" width=\"1000\" caption=\"A example model card from the Hugging Face Hub. The inference widget is shown on the right, where you can interact with the model.\" src=\"https://github.com/nlp-with-transformers/notebooks/blob/main/images/chapter01_hub-model-card.png?raw=1\" id=\"hub-model-card\"/>"
      ]
    },
    {
      "cell_type": "code",
      "execution_count": null,
      "metadata": {
        "id": "pcDYGef5OMH-"
      },
      "outputs": [],
      "source": []
    }
  ],
  "metadata": {
    "kernelspec": {
      "display_name": "Python 3",
      "name": "python3"
    },
    "colab": {
      "provenance": [],
      "gpuType": "T4"
    },
    "accelerator": "GPU",
  },
  "nbformat": 4,
  "nbformat_minor": 0
}